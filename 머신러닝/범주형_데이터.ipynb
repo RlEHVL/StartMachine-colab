{
  "nbformat": 4,
  "nbformat_minor": 0,
  "metadata": {
    "colab": {
      "provenance": []
    },
    "kernelspec": {
      "name": "python3",
      "display_name": "Python 3"
    },
    "language_info": {
      "name": "python"
    }
  },
  "cells": [
    {
      "cell_type": "markdown",
      "source": [
        "임시 파일"
      ],
      "metadata": {
        "id": "9b4fDJv0pe5n"
      }
    },
    {
      "cell_type": "markdown",
      "source": [
        "- 본 저작물은 RIEHV에게 있습니다."
      ],
      "metadata": {
        "id": "VY5Y1ImvWw3r"
      }
    },
    {
      "cell_type": "markdown",
      "source": [
        "# STAGE 1: 범주형 데이터 처리\n",
        "\n",
        "### **범주형 변수란?**\n",
        "- 데이터 분석 및 머신 러닝에서 자주 사용되는 변수 유형으로, 주로 **문자열 타입**으로 표현됩니다.\n",
        "- 데이터 프레임에서 'object' 또는 'category'로 분류됩니다.\n",
        "\n",
        "### **범주형 변수의 두 가지 주요 유형**\n",
        "1. **명목형(Nominal)**\n",
        "   - 서로 비교 가능한 등급, 순서, 크기의 의미가 없는 독립적인 범주.\n",
        "   - 예: 혈액형(A, B, AB, O), 상품 종류(전자제품, 가구, 의류 등).\n",
        "\n",
        "2. **순서형(Ordinal)**\n",
        "   - 범주 사이에 명확한 순서가 있어 등급을 나타낼 수 있는 변수.\n",
        "   - 예: 고객 만족도(매우 불만족, 불만족, 보통, 만족, 매우 만족), 피부 톤(매우 밝음, 밝음, 중간, 어두움, 매우 어두움).\n",
        "\n",
        "\n",
        "| 유형      | 설명                          | 예시             |\n",
        "|-----------|-------------------------------|------------------|\n",
        "| 명목형    | 순서가 없는 범주 데이터        | 성별, 색상       |\n",
        "| 순서형    | 순서가 있는 범주 데이터        | 학년, 등급       |\n",
        "\n",
        "\n",
        "\n",
        "\n",
        "### **왜 인코딩이 필요한가?**\n",
        "- 머신 러닝 모델은 **수치형 데이터만 처리**할 수 있기 때문에, 범주형 변수를 **수치형 데이터로 변환**하는 과정이 필요합니다.  \n",
        "이를 통해 모델이 범주형 변수의 의미를 이해하고 학습할 수 있습니다.\n",
        "\n",
        "- 데이터를 모델이 이해할 수 있도록 **수치형 데이터로 변환**하는 과정이 필합니다 요.\n",
        "\n"
      ],
      "metadata": {
        "id": "jI7Ic1JcW0T4"
      }
    },
    {
      "cell_type": "markdown",
      "source": [
        "## 2. 범주형 데이터 처리\n",
        "### 라벨 인코딩 예제\n"
      ],
      "metadata": {
        "id": "DNyTB67CYXqo"
      }
    },
    {
      "cell_type": "code",
      "execution_count": 2,
      "metadata": {
        "colab": {
          "base_uri": "https://localhost:8080/"
        },
        "id": "W_gRQaF8VoHf",
        "outputId": "faf553f2-38c6-4a41-b6c7-8ab873cc8e88"
      },
      "outputs": [
        {
          "output_type": "stream",
          "name": "stdout",
          "text": [
            "[2 0 1]\n"
          ]
        }
      ],
      "source": [
        "from sklearn.preprocessing import LabelEncoder\n",
        "\n",
        "data = ['red', 'blue', 'green']\n",
        "encoder = LabelEncoder()\n",
        "encoded_data = encoder.fit_transform(data)\n",
        "\n",
        "print(encoded_data)  # [2, 0, 1]"
      ]
    },
    {
      "cell_type": "markdown",
      "source": [],
      "metadata": {
        "id": "YQRbCVGxYn5S"
      }
    }
  ]
}